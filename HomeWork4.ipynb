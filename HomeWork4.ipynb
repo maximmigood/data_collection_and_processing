{
 "cells": [
  {
   "cell_type": "markdown",
   "id": "b85998d7",
   "metadata": {},
   "source": [
    "# Домашнее задние к уроку №4 \"Система управления базами данных MongoDB в Python\""
   ]
  },
  {
   "cell_type": "markdown",
   "id": "969110db",
   "metadata": {},
   "source": [
    "1 (+). Развернуть у себя на компьютере/виртуальной машине/хостинге MongoDB и реализовать функцию, которая будет добавлять только новые вакансии в вашу базу."
   ]
  },
  {
   "cell_type": "markdown",
   "id": "08ed56ac",
   "metadata": {},
   "source": [
    "2. Написать функцию, которая производит поиск и выводит на экран вакансии с заработной платой больше введённой суммы (необходимо анализировать оба поля зарплаты)."
   ]
  },
  {
   "cell_type": "markdown",
   "id": "a77dd141",
   "metadata": {},
   "source": [
    "3. * Любая аналитика. Например matching ваканский с разных площадок"
   ]
  },
  {
   "cell_type": "code",
   "execution_count": 1,
   "id": "7a11f977",
   "metadata": {},
   "outputs": [],
   "source": [
    "from pymongo import MongoClient\n",
    "import json"
   ]
  },
  {
   "cell_type": "code",
   "execution_count": 2,
   "id": "378cd264",
   "metadata": {},
   "outputs": [],
   "source": [
    "client = MongoClient('mongodb://localhost:27017')"
   ]
  },
  {
   "cell_type": "code",
   "execution_count": 91,
   "id": "e87a5017",
   "metadata": {},
   "outputs": [],
   "source": [
    "#client.list_database_names()"
   ]
  },
  {
   "cell_type": "markdown",
   "id": "8034c335",
   "metadata": {},
   "source": [
    "Создаём базу данных \"Vacancies\" с коллекцией \"collect_vacancies\""
   ]
  },
  {
   "cell_type": "code",
   "execution_count": 4,
   "id": "2885faa9",
   "metadata": {},
   "outputs": [],
   "source": [
    "db = client.vacancies\n",
    "collection_v = db.collect_vacancies"
   ]
  },
  {
   "cell_type": "markdown",
   "id": "a74a5f38",
   "metadata": {},
   "source": [
    "Загружаем данные из файла созданного при парсинге"
   ]
  },
  {
   "cell_type": "code",
   "execution_count": 92,
   "id": "8889b475",
   "metadata": {},
   "outputs": [],
   "source": [
    "with open('Вакансии.json', mode='r', encoding='UTF-8') as obj:\n",
    "    dat = json.load(obj)"
   ]
  },
  {
   "cell_type": "markdown",
   "id": "c93d6e68",
   "metadata": {},
   "source": [
    "Загружаем данные в коллекцию"
   ]
  },
  {
   "cell_type": "code",
   "execution_count": 25,
   "id": "59079645",
   "metadata": {},
   "outputs": [],
   "source": [
    "for d in dat:\n",
    "    collection_v.insert_one(d)"
   ]
  },
  {
   "cell_type": "code",
   "execution_count": 180,
   "id": "1b659aaa",
   "metadata": {},
   "outputs": [],
   "source": [
    "vc = collection_v.find()"
   ]
  },
  {
   "cell_type": "code",
   "execution_count": 189,
   "id": "d8e489ac",
   "metadata": {},
   "outputs": [
    {
     "data": {
      "text/plain": [
       "{'_id': ObjectId('633db6e4611d7fa103a8ebf0'),\n",
       " 'name': 'Наладчик-оператор (Снековый завод)',\n",
       " 'companay': 'ООО\\xa0PepsiCo',\n",
       " 'place': 'Новосибирск',\n",
       " 'salary': {'string': 'от 45\\u202f000 руб.',\n",
       "  'from': 45000,\n",
       "  'to': None,\n",
       "  'valute': 'руб'},\n",
       " 'link': 'https://tver.hh.ru/vacancy/70411190?from=vacancy_search_list&hhtmFrom=vacancy_search_list&query=%D0%9D%D0%B0%D0%BB%D0%B0%D0%B4%D1%87%D0%B8%D0%BA',\n",
       " 'source': 'hh.ru'}"
      ]
     },
     "execution_count": 189,
     "metadata": {},
     "output_type": "execute_result"
    }
   ],
   "source": [
    "vc.next()"
   ]
  },
  {
   "cell_type": "markdown",
   "id": "1925b3dd",
   "metadata": {},
   "source": [
    "Фунция для добавления новых вакансий"
   ]
  },
  {
   "cell_type": "code",
   "execution_count": 166,
   "id": "3aba6e1c",
   "metadata": {},
   "outputs": [],
   "source": [
    "def append_vacancy(c, v):\n",
    "    # считаем, что вакансия повторяется, если у неё совпадают наименование компании и наименование вакансии\n",
    "    # если вакансия добавлена, то функция возвращает True, если вакансия уже есть в базе, то функция возвращает False\n",
    "    r = c.count_documents({'name' : v['name'], 'companay': v['companay']})\n",
    "    if r:\n",
    "        return False\n",
    "    else:\n",
    "        c.insert_one(v)\n",
    "        return True"
   ]
  },
  {
   "cell_type": "markdown",
   "id": "024609fc",
   "metadata": {},
   "source": [
    "функцию, которая производит поиск и выводит на экран вакансии с заработной платой больше введённой суммы"
   ]
  },
  {
   "cell_type": "code",
   "execution_count": 119,
   "id": "73e057c4",
   "metadata": {},
   "outputs": [],
   "source": [
    "def find_greate_vacancies(c, border):\n",
    "    res = c.find({'$and': \n",
    "                           [ \n",
    "                            {'salary': {'$ne': None}},\n",
    "                            {'$or': \n",
    "                                [{'$and': \n",
    "                                    [{'salary.from': None},\n",
    "                                     {'salart.to': {'$gte': z}}]\n",
    "                                 },{'$and':\n",
    "                                    [{'salary.to': None},\n",
    "                                     {'salary.from': {'$gte': z}}]\n",
    "                                 },{'salary.to': {'$gte': z}\n",
    "                                    \n",
    "                                 } \n",
    "                                ]\n",
    "                            }\n",
    "                           ]\n",
    "                      })\n",
    "    for v in res:\n",
    "        print(f\" {v['companay']} \\t - \\t {v['name']}  {v['salary']['from']} - {v['salary']['to']} {v['salary']['valute']}\")"
   ]
  },
  {
   "cell_type": "code",
   "execution_count": 120,
   "id": "0071a0dc",
   "metadata": {},
   "outputs": [
    {
     "name": "stdout",
     "output_type": "stream",
     "text": [
      " АО ОЧАКОВО \t - \t Оператор-наладчик производственной линии  None - 150000 руб\n",
      " ООО Феррополис \t - \t Наладчик токарного станка с ЧПУ  95000 - 150000 руб\n",
      " ООО Рогос \t - \t Токарь - наладчик станков с ЧПУ  180000 - None руб\n",
      " Аигма \t - \t Наладчик термоформовочного оборудования  100000 - 150000 руб\n",
      " Логинова Ольга Ивановна \t - \t Механик-наладчик оборудования на обогатительный комбинат  250000 - 300000 руб\n",
      " ТОО BRAMF \t - \t Мастер-наладчик станков (мебельное производство)  400000 - None KZT\n",
      " ООО НПЦ ЛКТ \t - \t Оператор-наладчик станков с ЧПУ  70000 - 150000 руб\n",
      " ООО Альпы \t - \t Инженер-наладчик (Холодильное оборудование)  250000 - None руб\n",
      " ИП Молдагазинова Назира \t - \t Наладчик оборудования Tetra Pak.  300000 - 500000 KZT\n",
      " ИП Сулейменова Лейла \t - \t Инженер-наладчик КИПиА  400000 - 500000 KZT\n",
      " AP-UNITYHR \t - \t Наладчик (оператор) станков с ЧПУ  100000 - 150000 руб\n",
      " ООО Инженерные системы и технологии \t - \t Наладчик вентиляционного оборудования  50000 - 200000 руб\n",
      " ИП Молдагазинова Назира \t - \t Наладчик оборудования Tetra Pak.  300000 - 500000 KZT\n",
      " Токарные Технологии \t - \t Программист-наладчик фрезерного станка с ЧПУ  130000 - 150000 руб\n",
      " ИП Молдагазинова Назира \t - \t Наладчик оборудования Tetra Pak.  300000 - 500000 KZT\n",
      " Токарные Технологии \t - \t Программист-наладчик фрезерного станка с ЧПУ  130000 - 150000 руб\n",
      " ООО Рогос \t - \t Ночной технолог-наладчик фрезерного обрабатывающего центра ЧПУ  165000 - None руб\n",
      " ТОО Торговый Дом Эколос \t - \t Техник-наладчик  170000 - 300000 KZT\n"
     ]
    }
   ],
   "source": [
    "find_greate_vacancies(collection_v, 100_000)"
   ]
  },
  {
   "cell_type": "code",
   "execution_count": null,
   "id": "fec4b9c3",
   "metadata": {},
   "outputs": [],
   "source": [
    "\n",
    "        "
   ]
  }
 ],
 "metadata": {
  "kernelspec": {
   "display_name": "Python 3",
   "language": "python",
   "name": "python3"
  },
  "language_info": {
   "codemirror_mode": {
    "name": "ipython",
    "version": 3
   },
   "file_extension": ".py",
   "mimetype": "text/x-python",
   "name": "python",
   "nbconvert_exporter": "python",
   "pygments_lexer": "ipython3",
   "version": "3.8.8"
  }
 },
 "nbformat": 4,
 "nbformat_minor": 5
}
